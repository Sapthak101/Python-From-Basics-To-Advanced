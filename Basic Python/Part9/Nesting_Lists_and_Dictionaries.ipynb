{
 "cells": [
  {
   "cell_type": "code",
   "execution_count": 2,
   "metadata": {},
   "outputs": [
    {
     "name": "stdout",
     "output_type": "stream",
     "text": [
      "Berlin\n"
     ]
    }
   ],
   "source": [
    "capitals={\n",
    "    \"France\":\"Paris\",\n",
    "    \"Germany\": \"Berlin\"\n",
    "}\n",
    "\n",
    "travel_log=[\n",
    "    {\n",
    "        \"Country\":\"Farnce\", \n",
    "        \"cities_visited\":[\"Paris\", \"Little\", \"Dijon\"], \n",
    "        \"total_visits\":12\n",
    "    }, #each key can correspond to a single value ina dictionary, incase multivalued content need to be stored then list is a valid option\n",
    "    {\n",
    "        \"Country\":\"Germany\", \n",
    "        \"cities_visited\":[\"Berlin\", \"Hamburg\", \"Stuttgart\"], \n",
    "        \"total_visits\":45\n",
    "    }\n",
    "] #indetation inside nested list and dictionaries can be given according to the conviniences \n",
    "#nesting list to a list is possible, and the same goes for the dictionary also\n",
    "travel_info=travel_log[1][\"cities_visited\"][0]\n",
    "print(travel_info)"
   ]
  },
  {
   "cell_type": "code",
   "execution_count": null,
   "metadata": {},
   "outputs": [],
   "source": []
  }
 ],
 "metadata": {
  "kernelspec": {
   "display_name": "Python 3",
   "language": "python",
   "name": "python3"
  },
  "language_info": {
   "codemirror_mode": {
    "name": "ipython",
    "version": 3
   },
   "file_extension": ".py",
   "mimetype": "text/x-python",
   "name": "python",
   "nbconvert_exporter": "python",
   "pygments_lexer": "ipython3",
   "version": "3.10.7"
  },
  "orig_nbformat": 4,
  "vscode": {
   "interpreter": {
    "hash": "d3e10ef16274dd72e574b8fa73b58450b957d8421a2901baded3cca26fcf5dda"
   }
  }
 },
 "nbformat": 4,
 "nbformat_minor": 2
}
