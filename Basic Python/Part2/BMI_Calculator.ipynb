{
 "cells": [
  {
   "cell_type": "code",
   "execution_count": 12,
   "metadata": {},
   "outputs": [
    {
     "name": "stdout",
     "output_type": "stream",
     "text": [
      "Your BMI is: 0\n"
     ]
    }
   ],
   "source": [
    "height=input(\"Enter your height in m: \")\n",
    "weight=input(\"Enter your weight in kg: \")\n",
    "weight1=float(weight) #str to int type casting with a number containing decimal point cannot be done\n",
    "height1=float(height) #str with a decimal point can be converted into a float using the float function \n",
    "bmi=int(height1 / weight1**2) #prints the nearest integer that is if the number is 19.3 it is rounded to 19, and of the number 29.9 it is rounded to 30\n",
    "print(\"Your BMI is: \"+str(bmi))"
   ]
  },
  {
   "cell_type": "code",
   "execution_count": 16,
   "metadata": {},
   "outputs": [
    {
     "name": "stdout",
     "output_type": "stream",
     "text": [
      "2.67\n",
      "2.56\n",
      "2\n",
      "2.6666666666666665\n"
     ]
    }
   ],
   "source": [
    "print(round(8/3,2)) #8/3 is a float and it is rounded to decimal places\n",
    "print(round(2.555556,2))\n",
    "print(8//3) #floor division the result is an integer\n",
    "print(8/3) #the result is a float\n",
    "a=90\n",
    "a+=89\n",
    "a-=87\n",
    "a/=7\n",
    "a*=4 #a=a*4\n"
   ]
  },
  {
   "cell_type": "code",
   "execution_count": 2,
   "metadata": {},
   "outputs": [
    {
     "name": "stdout",
     "output_type": "stream",
     "text": [
      "The results are: 4, 4.6, True\n"
     ]
    }
   ],
   "source": [
    "#fstring\n",
    "\n",
    "num1=4\n",
    "num2=4.6\n",
    "result=True\n",
    "print(f\"The results are: {num1}, {num2}, {result}\")"
   ]
  },
  {
   "cell_type": "code",
   "execution_count": null,
   "metadata": {},
   "outputs": [],
   "source": []
  }
 ],
 "metadata": {
  "kernelspec": {
   "display_name": "Python 3",
   "language": "python",
   "name": "python3"
  },
  "language_info": {
   "codemirror_mode": {
    "name": "ipython",
    "version": 3
   },
   "file_extension": ".py",
   "mimetype": "text/x-python",
   "name": "python",
   "nbconvert_exporter": "python",
   "pygments_lexer": "ipython3",
   "version": "3.10.7"
  },
  "orig_nbformat": 4,
  "vscode": {
   "interpreter": {
    "hash": "d3e10ef16274dd72e574b8fa73b58450b957d8421a2901baded3cca26fcf5dda"
   }
  }
 },
 "nbformat": 4,
 "nbformat_minor": 2
}
