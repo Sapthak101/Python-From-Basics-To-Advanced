{
 "cells": [
  {
   "cell_type": "code",
   "execution_count": 5,
   "metadata": {},
   "outputs": [
    {
     "name": "stdout",
     "output_type": "stream",
     "text": [
      "Hello Sapthak\n",
      "123\n",
      "Hello Sapthak\n"
     ]
    }
   ],
   "source": [
    "class UserClass: #Pascal Casing with each distinguised word in the class name is starting with a capital letter\n",
    "    pass #variables can be there but they should not be initialized\n",
    "    def __init__(self, a): #constructor, self is the actual object that is being initialized\n",
    "        print(\"Hello Sapthak\")\n",
    "        self.id=\"123\"\n",
    "        self.username=\"NULL\"\n",
    "        self.follower=0\n",
    "user_1=UserClass(4) #argument for parameter a\n",
    "print(user_1.id)\n",
    "user_1.username=\"Chelsea\"\n",
    "\n",
    "user_2=UserClass(1)\n"
   ]
  },
  {
   "cell_type": "code",
   "execution_count": null,
   "metadata": {},
   "outputs": [],
   "source": []
  }
 ],
 "metadata": {
  "kernelspec": {
   "display_name": "Python 3",
   "language": "python",
   "name": "python3"
  },
  "language_info": {
   "codemirror_mode": {
    "name": "ipython",
    "version": 3
   },
   "file_extension": ".py",
   "mimetype": "text/x-python",
   "name": "python",
   "nbconvert_exporter": "python",
   "pygments_lexer": "ipython3",
   "version": "3.10.7"
  },
  "orig_nbformat": 4,
  "vscode": {
   "interpreter": {
    "hash": "d3e10ef16274dd72e574b8fa73b58450b957d8421a2901baded3cca26fcf5dda"
   }
  }
 },
 "nbformat": 4,
 "nbformat_minor": 2
}
