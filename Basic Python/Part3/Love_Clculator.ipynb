{
 "cells": [
  {
   "cell_type": "code",
   "execution_count": 2,
   "metadata": {},
   "outputs": [
    {
     "name": "stdout",
     "output_type": "stream",
     "text": [
      "Enter to our Love Calculator: \n",
      "Your love percentage is: 12\n"
     ]
    }
   ],
   "source": [
    "print(\"Enter to our Love Calculator\")\n",
    "name1=input(\"Enter your name: \")\n",
    "name2=input(\"Enter their name: \")\n",
    "\n",
    "name3=name1+name2\n",
    "name3=name3.lower()\n",
    "\n",
    "count1=name3.count('t')+name3.count('r')+name3.count('u')+name3.count('e')\n",
    "count2=name3.count('l')+name3.count('o')+name3.count('v')+name3.count('e')\n",
    "\n",
    "print(f\"Your love percentage is: {count1}{count2}\")\n",
    "\n",
    "count3=int(str(count1)+str(count2))\n",
    "\n",
    "if ((count3<10) or (count3>90)):\n",
    "    print(\"You go together like coke and mentos\")\n",
    "elif ((count3>40) and (count3<50)):\n",
    "    print(\"You are a perfect match\")"
   ]
  },
  {
   "cell_type": "code",
   "execution_count": null,
   "metadata": {},
   "outputs": [],
   "source": []
  }
 ],
 "metadata": {
  "kernelspec": {
   "display_name": "Python 3",
   "language": "python",
   "name": "python3"
  },
  "language_info": {
   "codemirror_mode": {
    "name": "ipython",
    "version": 3
   },
   "file_extension": ".py",
   "mimetype": "text/x-python",
   "name": "python",
   "nbconvert_exporter": "python",
   "pygments_lexer": "ipython3",
   "version": "3.10.7"
  },
  "orig_nbformat": 4,
  "vscode": {
   "interpreter": {
    "hash": "d3e10ef16274dd72e574b8fa73b58450b957d8421a2901baded3cca26fcf5dda"
   }
  }
 },
 "nbformat": 4,
 "nbformat_minor": 2
}
