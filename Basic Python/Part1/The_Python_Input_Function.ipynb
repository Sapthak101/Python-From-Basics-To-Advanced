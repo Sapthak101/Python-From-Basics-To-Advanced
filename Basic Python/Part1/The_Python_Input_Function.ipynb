{
 "cells": [
  {
   "cell_type": "code",
   "execution_count": 1,
   "metadata": {},
   "outputs": [
    {
     "name": "stdout",
     "output_type": "stream",
     "text": [
      "Sapthak\n"
     ]
    }
   ],
   "source": [
    "string=input(\"Enter your name: \")\n",
    "print(string)"
   ]
  },
  {
   "cell_type": "code",
   "execution_count": 2,
   "metadata": {},
   "outputs": [
    {
     "name": "stdout",
     "output_type": "stream",
     "text": [
      "Hello Sapthak\n"
     ]
    }
   ],
   "source": [
    "#At first the name is taken as an input, and shifted to a new line and then the whole text is printed\n",
    "print(\"Hello \" + input(\"Enter your name: \"))\n",
    "#to comment ctrl+/ or ctrl+z"
   ]
  },
  {
   "cell_type": "code",
   "execution_count": 6,
   "metadata": {},
   "outputs": [
    {
     "name": "stdout",
     "output_type": "stream",
     "text": [
      "Sapthak\n",
      "7\n",
      "The length of the entered string is 7\n"
     ]
    }
   ],
   "source": [
    "#printing the length of a string\n",
    "string=input(\"Enter your name: \")\n",
    "length=len(string)\n",
    "print(string)\n",
    "print(length)\n",
    "print(\"The length of the entered string is \"+str(len(input(\"Enter your name: \")))) #funtioqn execution starts fronm the root level, example nested function"
   ]
  },
  {
   "cell_type": "code",
   "execution_count": 7,
   "metadata": {},
   "outputs": [
    {
     "name": "stdout",
     "output_type": "stream",
     "text": [
      "The value of a=34 and the value of b=34\n"
     ]
    }
   ],
   "source": [
    "#Swapping variables\n",
    "a=input(\"Enter a number: \")\n",
    "b=input(\"'Enter another number: \")\n",
    "temp=a\n",
    "a=b\n",
    "b=a\n",
    "print(f'The value of a={a} and the value of b={b}')"
   ]
  }
 ],
 "metadata": {
  "kernelspec": {
   "display_name": "Python 3",
   "language": "python",
   "name": "python3"
  },
  "language_info": {
   "codemirror_mode": {
    "name": "ipython",
    "version": 3
   },
   "file_extension": ".py",
   "mimetype": "text/x-python",
   "name": "python",
   "nbconvert_exporter": "python",
   "pygments_lexer": "ipython3",
   "version": "3.10.7"
  },
  "orig_nbformat": 4,
  "vscode": {
   "interpreter": {
    "hash": "d3e10ef16274dd72e574b8fa73b58450b957d8421a2901baded3cca26fcf5dda"
   }
  }
 },
 "nbformat": 4,
 "nbformat_minor": 2
}
