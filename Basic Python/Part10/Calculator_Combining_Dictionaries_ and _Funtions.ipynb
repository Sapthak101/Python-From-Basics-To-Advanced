{
 "cells": [
  {
   "cell_type": "code",
   "execution_count": null,
   "metadata": {},
   "outputs": [],
   "source": [
    "Part1:   https://replit.com/@Sapthak-Mohajon/Calculator-Part-1-Combining-Dictionaries-and-Functions\n",
    "Part2:    https://replit.com/@Sapthak-Mohajon/Calculator-Part-2-Combining-Dictionaries-and-Functions"
   ]
  }
 ],
 "metadata": {
  "language_info": {
   "name": "python"
  },
  "orig_nbformat": 4
 },
 "nbformat": 4,
 "nbformat_minor": 2
}
