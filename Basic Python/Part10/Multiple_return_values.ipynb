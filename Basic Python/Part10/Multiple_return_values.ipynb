{
 "cells": [
  {
   "cell_type": "code",
   "execution_count": null,
   "metadata": {},
   "outputs": [],
   "source": [
    "#empty return can be written to quit a function in case not needed\n",
    "# a return statement can have have only one value at max to return \n",
    "#but multiple retturn statemnet in a funtion can be deployed to to implement varipus funtionality\n",
    "def format_name(fname, lname):\n",
    "    \n",
    "    if fname == \"\" or lname == \"\":\n",
    "        return \"Empty string is given as an input\" # only return\n",
    "\n",
    "    fname=fname.lower()\n",
    "    lname=lname.lower()\n",
    "\n",
    "    full_name=fname+\" \"+lname\n",
    "    full_name=full_name.title() #converts the starting letter of every alphabet in a phrase\n",
    "\n",
    "    return full_name\n",
    "\n",
    "fname=input(\"Input your first name: \")\n",
    "lname=input(\"Input your last name: \")\n",
    "\n",
    "print(f\"{format_name(fname, lname)}\")"
   ]
  }
 ],
 "metadata": {
  "kernelspec": {
   "display_name": "Python 3",
   "language": "python",
   "name": "python3"
  },
  "language_info": {
   "name": "python",
   "version": "3.10.7"
  },
  "orig_nbformat": 4,
  "vscode": {
   "interpreter": {
    "hash": "d3e10ef16274dd72e574b8fa73b58450b957d8421a2901baded3cca26fcf5dda"
   }
  }
 },
 "nbformat": 4,
 "nbformat_minor": 2
}
