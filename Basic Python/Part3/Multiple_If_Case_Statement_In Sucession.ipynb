{
 "cells": [
  {
   "cell_type": "code",
   "execution_count": 1,
   "metadata": {},
   "outputs": [
    {
     "name": "stdout",
     "output_type": "stream",
     "text": [
      "You can take a ride\n",
      "Your ticket price is: $26\n"
     ]
    }
   ],
   "source": [
    "height=int(float(input(\"Enter your height in cm: \\n\")))\n",
    "if height>=120:\n",
    "    bill=0\n",
    "    print(\"You can take a ride\")\n",
    "    age=int(input(\"Enter your age: \"))\n",
    "    if age<12: #lower up ladder comparison\n",
    "        bill=5\n",
    "    elif age<=18:\n",
    "        bill=7\n",
    "    else:\n",
    "        bill=13\n",
    "    wants_photo=input(\"Do you want to click a picture (Y/N): \")\n",
    "    if wants_photo=='Y':\n",
    "        print(f\"Ticket cost $3\")\n",
    "        print(f\"Your ticket price is: ${bill+3}\")\n",
    "    else:\n",
    "        print(f\"Your ticket price is ${bill}\")\n",
    "else:\n",
    "    print(\"You cannot take a ride\")\n"
   ]
  },
  {
   "cell_type": "code",
   "execution_count": null,
   "metadata": {},
   "outputs": [],
   "source": []
  }
 ],
 "metadata": {
  "kernelspec": {
   "display_name": "Python 3",
   "language": "python",
   "name": "python3"
  },
  "language_info": {
   "codemirror_mode": {
    "name": "ipython",
    "version": 3
   },
   "file_extension": ".py",
   "mimetype": "text/x-python",
   "name": "python",
   "nbconvert_exporter": "python",
   "pygments_lexer": "ipython3",
   "version": "3.10.7"
  },
  "orig_nbformat": 4,
  "vscode": {
   "interpreter": {
    "hash": "d3e10ef16274dd72e574b8fa73b58450b957d8421a2901baded3cca26fcf5dda"
   }
  }
 },
 "nbformat": 4,
 "nbformat_minor": 2
}
