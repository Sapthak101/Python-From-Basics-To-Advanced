{
 "cells": [
  {
   "cell_type": "code",
   "execution_count": 1,
   "metadata": {},
   "outputs": [
    {
     "name": "stdout",
     "output_type": "stream",
     "text": [
      "It is not a leap year\n",
      "28\n"
     ]
    }
   ],
   "source": [
    "\n",
    "def isleap_year(year):\n",
    "    if (year%4==0): #brackets used with the if statements are not mandatory\n",
    "        if (year%100==0):\n",
    "            if (year%400==0):\n",
    "                return True\n",
    "            else:\n",
    "                return False\n",
    "        else:\n",
    "            return True\n",
    "    else:\n",
    "        return False\n",
    "\n",
    "def days_in_month(year, month):\n",
    "    month_days=[31,28,31,30,31,30,31,31,30,31,30,31]\n",
    "    if isleap_year(year) and month ==2:\n",
    "        return 29\n",
    "    return month_days[month-1]\n",
    "\n",
    "year=int(input(\"Enter a year: \"))\n",
    "month=int(input(\"Enter a month: \"))\n",
    "days=days_in_month(year, month)\n",
    "print(days)"
   ]
  },
  {
   "cell_type": "code",
   "execution_count": null,
   "metadata": {},
   "outputs": [],
   "source": []
  }
 ],
 "metadata": {
  "kernelspec": {
   "display_name": "Python 3",
   "language": "python",
   "name": "python3"
  },
  "language_info": {
   "codemirror_mode": {
    "name": "ipython",
    "version": 3
   },
   "file_extension": ".py",
   "mimetype": "text/x-python",
   "name": "python",
   "nbconvert_exporter": "python",
   "pygments_lexer": "ipython3",
   "version": "3.10.7"
  },
  "orig_nbformat": 4,
  "vscode": {
   "interpreter": {
    "hash": "d3e10ef16274dd72e574b8fa73b58450b957d8421a2901baded3cca26fcf5dda"
   }
  }
 },
 "nbformat": 4,
 "nbformat_minor": 2
}
