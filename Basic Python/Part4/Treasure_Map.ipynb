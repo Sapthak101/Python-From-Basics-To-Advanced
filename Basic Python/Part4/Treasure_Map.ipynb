{
 "cells": [
  {
   "cell_type": "code",
   "execution_count": 8,
   "metadata": {},
   "outputs": [
    {
     "name": "stdout",
     "output_type": "stream",
     "text": [
      "['.', '.', '.'] \n",
      "['.', '.', '.']\n",
      "\n",
      "\n",
      "[23, '.', '.'] \n",
      "['.', '.', '.']\n"
     ]
    }
   ],
   "source": [
    "list1=[[\".\", \".\",\".\"], [\".\", \".\",\".\"], [\".\", \".\",\".\"]]\n",
    "print(f\"{list1[0]} \\n{list1[1]}\")\n",
    "\n",
    "pos=input(\"Enter the grid pos, seperated by a comma: \")\n",
    "\n",
    "list2=pos.split(\",\")\n",
    "#with out splitting ti can be done because strings can also be referenced by thier indexes\n",
    "pos1=int(list2[0])-1\n",
    "pos2=int(list2[1])-1\n",
    "\n",
    "val=input(\"Enter the data you want to insert: \")\n",
    "list1[pos1][pos2]=int(val)\n",
    "print(f\"\\n\\n{list1[0]} \\n{list1[1]}\")\n"
   ]
  },
  {
   "cell_type": "code",
   "execution_count": null,
   "metadata": {},
   "outputs": [],
   "source": []
  }
 ],
 "metadata": {
  "kernelspec": {
   "display_name": "Python 3",
   "language": "python",
   "name": "python3"
  },
  "language_info": {
   "codemirror_mode": {
    "name": "ipython",
    "version": 3
   },
   "file_extension": ".py",
   "mimetype": "text/x-python",
   "name": "python",
   "nbconvert_exporter": "python",
   "pygments_lexer": "ipython3",
   "version": "3.10.7"
  },
  "orig_nbformat": 4,
  "vscode": {
   "interpreter": {
    "hash": "d3e10ef16274dd72e574b8fa73b58450b957d8421a2901baded3cca26fcf5dda"
   }
  }
 },
 "nbformat": 4,
 "nbformat_minor": 2
}
