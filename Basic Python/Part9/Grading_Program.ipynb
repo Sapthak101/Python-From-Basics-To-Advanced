{
 "cells": [
  {
   "cell_type": "code",
   "execution_count": 2,
   "metadata": {},
   "outputs": [
    {
     "name": "stdout",
     "output_type": "stream",
     "text": [
      "{'Draco': 'Acceptable', 'Hermione': 'Outstanding', 'Neville': 'Fail'}\n"
     ]
    }
   ],
   "source": [
    "student_scores={\n",
    "    \"Harry\":81,\n",
    "    \"Ron\":78,\n",
    "    \"Hermione\":99,\n",
    "    \"Draco\":74,\n",
    "    \"Neville\":62\n",
    "}\n",
    "\n",
    "student_grades={}\n",
    "flag=True\n",
    "while(flag):\n",
    "    name=input(\"Enter the name of the student: \")\n",
    "\n",
    "    if name in student_scores:\n",
    "        mark=student_scores[name]\n",
    "        if (int(mark)>=91):\n",
    "            student_grades[name]=\"Outstanding\"\n",
    "        elif (int(mark)>=81):\n",
    "            student_grades[name]=\"Excels Expectation\"\n",
    "        elif (int(mark)>=71):\n",
    "            student_grades[name]=\"Acceptable\"\n",
    "        else:\n",
    "            student_grades[name]=\"Fail\"\n",
    "    else:\n",
    "        print(\"You have entered a wrong key\")\n",
    "    \n",
    "    again_insert=input(\"Do you want to continue again (Y/N): \")\n",
    "    if (again_insert==\"N\"):\n",
    "        flag=False\n",
    "\n",
    "print(student_grades)"
   ]
  },
  {
   "cell_type": "code",
   "execution_count": null,
   "metadata": {},
   "outputs": [],
   "source": []
  }
 ],
 "metadata": {
  "kernelspec": {
   "display_name": "Python 3",
   "language": "python",
   "name": "python3"
  },
  "language_info": {
   "codemirror_mode": {
    "name": "ipython",
    "version": 3
   },
   "file_extension": ".py",
   "mimetype": "text/x-python",
   "name": "python",
   "nbconvert_exporter": "python",
   "pygments_lexer": "ipython3",
   "version": "3.10.7"
  },
  "orig_nbformat": 4,
  "vscode": {
   "interpreter": {
    "hash": "d3e10ef16274dd72e574b8fa73b58450b957d8421a2901baded3cca26fcf5dda"
   }
  }
 },
 "nbformat": 4,
 "nbformat_minor": 2
}
