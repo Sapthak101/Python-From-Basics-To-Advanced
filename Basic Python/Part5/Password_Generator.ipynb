{
 "cells": [
  {
   "cell_type": "code",
   "execution_count": 5,
   "metadata": {},
   "outputs": [
    {
     "name": "stdout",
     "output_type": "stream",
     "text": [
      "Welcome to the Python Password Generator!\n",
      " ()#!##57#!Fa#5\n"
     ]
    }
   ],
   "source": [
    "letters = ['a', 'b', 'c', 'd', 'e', 'f', 'g', 'h', 'i', 'j', 'k', 'l', 'm', 'n', 'o', 'p', 'q', 'r', 's', 't', 'u', 'v', 'w', 'x', 'y', 'z', 'A', 'B', 'C', 'D', 'E', 'F', 'G', 'H', 'I', 'J', 'K', 'L', 'M', 'N', 'O', 'P', 'Q', 'R', 'S', 'T', 'U', 'V', 'W', 'X', 'Y', 'Z']\n",
    "numbers = ['0', '1', '2', '3', '4', '5', '6', '7', '8', '9']\n",
    "symbols = ['!', '#', '$', '%', '&', '(', ')', '*', '+']\n",
    "\n",
    "import random as rn\n",
    "\n",
    "#easy level\n",
    "\n",
    "print(\"Welcome to the Python Password Generator!\")\n",
    "nr_letters = int(input(\"How many letters would you like in your password?\\n\")) \n",
    "nr_symbols = int(input(f\"How many symbols would you like?\\n\"))\n",
    "nr_numbers = int(input(f\"How many numbers would you like?\\n\"))\n",
    "\n",
    "list2=[ ] # [] empty list\n",
    "for number in range(1,int(nr_letters)+1):\n",
    "    list2.append(rn.choice(letters))\n",
    "for number in range(1, int(nr_symbols)+1):\n",
    "    list2.append(rn.choice(symbols))\n",
    "for number in range(1, int(nr_numbers)+1):\n",
    "    list2.append(rn.choice(numbers)) #+notation can also be used in appending lists\n",
    "total_char=int(nr_letters)+int(nr_symbols)+int(nr_numbers)\n",
    "\n",
    "list3=[ ] #a list can be shuffled using rn.shuffle()\n",
    "for number in range(1, total_char+1):\n",
    "    list3.append(rn.choice(list2))\n",
    "\n",
    "password=\" \" #empty string or \"\"\n",
    "for char in list3:\n",
    "    password+=char\n",
    "\n",
    "print(password)"
   ]
  },
  {
   "cell_type": "code",
   "execution_count": null,
   "metadata": {},
   "outputs": [],
   "source": []
  }
 ],
 "metadata": {
  "kernelspec": {
   "display_name": "Python 3",
   "language": "python",
   "name": "python3"
  },
  "language_info": {
   "codemirror_mode": {
    "name": "ipython",
    "version": 3
   },
   "file_extension": ".py",
   "mimetype": "text/x-python",
   "name": "python",
   "nbconvert_exporter": "python",
   "pygments_lexer": "ipython3",
   "version": "3.10.7"
  },
  "orig_nbformat": 4,
  "vscode": {
   "interpreter": {
    "hash": "d3e10ef16274dd72e574b8fa73b58450b957d8421a2901baded3cca26fcf5dda"
   }
  }
 },
 "nbformat": 4,
 "nbformat_minor": 2
}
