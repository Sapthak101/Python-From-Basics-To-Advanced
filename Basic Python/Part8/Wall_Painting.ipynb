{
 "cells": [
  {
   "cell_type": "code",
   "execution_count": 4,
   "metadata": {},
   "outputs": [
    {
     "name": "stdout",
     "output_type": "stream",
     "text": [
      "<class 'float'>\n",
      "<class 'int'>\n",
      "You need 2 cans of paints\n"
     ]
    }
   ],
   "source": [
    "import math\n",
    "\n",
    "def wall_paint(height, width, cover):\n",
    "    area=height*width\n",
    "    wall_p=area/cover\n",
    "    print(type(wall_p))\n",
    "    wall_paint=math.ceil(area/cover) #for rounding decimal to whole\n",
    "    print(type(wall_paint)) #converts float to int\n",
    "    print(f\"You need {wall_paint} cans of paints\")\n",
    "\n",
    "c=5\n",
    "h=input(\"Enter height: \")\n",
    "w=input(\"Enter width:\")\n",
    "wall_paint(height=float(h), width=float(w), cover=c)"
   ]
  },
  {
   "cell_type": "code",
   "execution_count": null,
   "metadata": {},
   "outputs": [],
   "source": []
  }
 ],
 "metadata": {
  "kernelspec": {
   "display_name": "Python 3",
   "language": "python",
   "name": "python3"
  },
  "language_info": {
   "codemirror_mode": {
    "name": "ipython",
    "version": 3
   },
   "file_extension": ".py",
   "mimetype": "text/x-python",
   "name": "python",
   "nbconvert_exporter": "python",
   "pygments_lexer": "ipython3",
   "version": "3.10.7"
  },
  "orig_nbformat": 4,
  "vscode": {
   "interpreter": {
    "hash": "d3e10ef16274dd72e574b8fa73b58450b957d8421a2901baded3cca26fcf5dda"
   }
  }
 },
 "nbformat": 4,
 "nbformat_minor": 2
}
