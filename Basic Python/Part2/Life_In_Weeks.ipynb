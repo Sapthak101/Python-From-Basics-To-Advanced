{
 "cells": [
  {
   "cell_type": "code",
   "execution_count": 2,
   "metadata": {},
   "outputs": [
    {
     "name": "stdout",
     "output_type": "stream",
     "text": [
      "Hoping you will survive till your age is 90 years old\n",
      "You will survive for 70 years, 3640 weeks, 840 days\n"
     ]
    }
   ],
   "source": [
    "num=input(\"Please enter your current age: \")\n",
    "print(\"Hoping you will survive till your age is 90 years old\")\n",
    "years=90-int(num)\n",
    "weeks=90*52-int(num)*52 \n",
    "months=90*12-int(num)*12\n",
    "print(f\"You will survive for {years} years, {weeks} weeks, {months} months\")"
   ]
  }
 ],
 "metadata": {
  "kernelspec": {
   "display_name": "Python 3",
   "language": "python",
   "name": "python3"
  },
  "language_info": {
   "codemirror_mode": {
    "name": "ipython",
    "version": 3
   },
   "file_extension": ".py",
   "mimetype": "text/x-python",
   "name": "python",
   "nbconvert_exporter": "python",
   "pygments_lexer": "ipython3",
   "version": "3.10.7"
  },
  "orig_nbformat": 4,
  "vscode": {
   "interpreter": {
    "hash": "d3e10ef16274dd72e574b8fa73b58450b957d8421a2901baded3cca26fcf5dda"
   }
  }
 },
 "nbformat": 4,
 "nbformat_minor": 2
}
