{
 "cells": [
  {
   "cell_type": "code",
   "execution_count": 4,
   "metadata": {},
   "outputs": [
    {
     "name": "stdout",
     "output_type": "stream",
     "text": [
      "[{'Country': 'France', 'cities_visited': ['Paris', 'Little', 'Dijon'], 'total_visits': 12}, {'Country': 'Germany', 'cities_visited': ['Berlin', 'Hamburg', 'Stuttgart'], 'total_visits': 45}, {'country': 'Bangladesh', 'cities_visited': ['Chattogram', ' Dhaka'], 'total_visits': '45'}]\n",
      "[{'Country': 'France', 'cities_visited': ['Paris', 'Little', 'Dijon'], 'total_visits': 12}, {'Country': 'Germany', 'cities_visited': ['Berlin', 'Hamburg', 'Stuttgart'], 'total_visits': 45}, {'country': 'Bangladesh', 'cities_visited': ['Chattogram', ' Dhaka', 'Khulna'], 'total_visits': '45'}]\n"
     ]
    }
   ],
   "source": [
    "capitals={\n",
    "    \"France\":\"Paris\",\n",
    "    \"Germany\": \"Berlin\"\n",
    "}\n",
    "\n",
    "travel_log=[\n",
    "    {\n",
    "        \"Country\":\"France\", \n",
    "        \"cities_visited\":[\"Paris\", \"Little\", \"Dijon\"], \n",
    "        \"total_visits\":12\n",
    "    }, #each key can correspond to a single value ina dictionary, incase multivalued content need to be stored then list is a valid option\n",
    "    {\n",
    "        \"Country\":\"Germany\", \n",
    "        \"cities_visited\":[\"Berlin\", \"Hamburg\", \"Stuttgart\"], \n",
    "        \"total_visits\":45\n",
    "    }\n",
    "]\n",
    "\n",
    "country=input(\"Enter the country you have visited: \")\n",
    "city=input(\"Enter the cities that you have visited: \")\n",
    "total_visits=input(\"Enter the total number of visits: \")\n",
    "\n",
    "list1=city.split(\",\")\n",
    "\n",
    "#dictionary data insertion and appending\n",
    "new_country={}\n",
    "new_country[\"country\"]=country\n",
    "new_country[\"cities_visited\"]=list1\n",
    "new_country[\"total_visits\"]=total_visits\n",
    "\n",
    "travel_log.append(new_country)\n",
    "\n",
    "print(travel_log)\n",
    "\n",
    "travel_log[2][\"cities_visited\"].append(\"Khulna\")\n",
    "print(travel_log)"
   ]
  },
  {
   "cell_type": "code",
   "execution_count": null,
   "metadata": {},
   "outputs": [],
   "source": []
  }
 ],
 "metadata": {
  "kernelspec": {
   "display_name": "Python 3",
   "language": "python",
   "name": "python3"
  },
  "language_info": {
   "codemirror_mode": {
    "name": "ipython",
    "version": 3
   },
   "file_extension": ".py",
   "mimetype": "text/x-python",
   "name": "python",
   "nbconvert_exporter": "python",
   "pygments_lexer": "ipython3",
   "version": "3.10.7"
  },
  "orig_nbformat": 4,
  "vscode": {
   "interpreter": {
    "hash": "d3e10ef16274dd72e574b8fa73b58450b957d8421a2901baded3cca26fcf5dda"
   }
  }
 },
 "nbformat": 4,
 "nbformat_minor": 2
}
