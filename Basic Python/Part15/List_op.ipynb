{
 "cells": [
  {
   "cell_type": "code",
   "execution_count": 2,
   "metadata": {},
   "outputs": [
    {
     "ename": "TypeError",
     "evalue": "'int' object is not subscriptable",
     "output_type": "error",
     "traceback": [
      "\u001b[1;31m---------------------------------------------------------------------------\u001b[0m",
      "\u001b[1;31mTypeError\u001b[0m                                 Traceback (most recent call last)",
      "Cell \u001b[1;32mIn[2], line 8\u001b[0m\n\u001b[0;32m      5\u001b[0m     list2\u001b[39m=\u001b[39mrn\u001b[39m.\u001b[39mchoice(list1)\n\u001b[0;32m      6\u001b[0m     \u001b[39mprint\u001b[39m(list2[\u001b[39m0\u001b[39m])\n\u001b[1;32m----> 8\u001b[0m listpas()\n",
      "Cell \u001b[1;32mIn[2], line 6\u001b[0m, in \u001b[0;36mlistpas\u001b[1;34m()\u001b[0m\n\u001b[0;32m      4\u001b[0m \u001b[39mdef\u001b[39;00m \u001b[39mlistpas\u001b[39m():\n\u001b[0;32m      5\u001b[0m     list2\u001b[39m=\u001b[39mrn\u001b[39m.\u001b[39mchoice(list1)\n\u001b[1;32m----> 6\u001b[0m     \u001b[39mprint\u001b[39m(list2[\u001b[39m0\u001b[39;49m])\n",
      "\u001b[1;31mTypeError\u001b[0m: 'int' object is not subscriptable"
     ]
    }
   ],
   "source": [
    "list1=[1,2,3]\n",
    "\n",
    "import random as rn  #in case of a list a element from the list is randomly chosen and assigned to the variable\n",
    "def listpas():\n",
    "    list2=rn.choice(list1)\n",
    "    print(list2)\n",
    " \n",
    "listpas()"
   ]
  },
  {
   "cell_type": "code",
   "execution_count": null,
   "metadata": {},
   "outputs": [],
   "source": []
  }
 ],
 "metadata": {
  "kernelspec": {
   "display_name": "Python 3",
   "language": "python",
   "name": "python3"
  },
  "language_info": {
   "codemirror_mode": {
    "name": "ipython",
    "version": 3
   },
   "file_extension": ".py",
   "mimetype": "text/x-python",
   "name": "python",
   "nbconvert_exporter": "python",
   "pygments_lexer": "ipython3",
   "version": "3.10.7"
  },
  "orig_nbformat": 4,
  "vscode": {
   "interpreter": {
    "hash": "d3e10ef16274dd72e574b8fa73b58450b957d8421a2901baded3cca26fcf5dda"
   }
  }
 },
 "nbformat": 4,
 "nbformat_minor": 2
}
