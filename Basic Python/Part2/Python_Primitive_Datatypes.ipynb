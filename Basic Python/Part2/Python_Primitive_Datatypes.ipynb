{
 "cells": [
  {
   "cell_type": "code",
   "execution_count": 4,
   "metadata": {},
   "outputs": [
    {
     "name": "stdout",
     "output_type": "stream",
     "text": [
      "H\n",
      "<class 'int'>\n",
      "<class 'float'>\n",
      "<class 'bool'>\n",
      "The datatype is: <class 'bool'>\n",
      "579\n",
      "123456789\n",
      "123456789\n"
     ]
    }
   ],
   "source": [
    "#datatypes considered in python string, integer, float, boolean\n",
    "string=\"Hello\"\n",
    "print(\"Heklo\"[0]) #subscripting in python to geet a charater out of an strin using the index number\n",
    "a=20\n",
    "print(type(a))\n",
    "b=30.5\n",
    "print(b)\n",
    "print(type(b))\n",
    "c=True\n",
    "print(type(c))\n",
    "print(\"The datatype is: \"+str(type(c)))\n",
    "print(123+456)\n",
    "#large number in opython can be segregated by using a underscore\n",
    "print(123_456_789)\n",
    "d=123_456_789\n",
    "print(d)\n",
    "#len function can take objects such as string but not float, integer, boolean\n",
    "\n"
   ]
  },
  {
   "cell_type": "code",
   "execution_count": null,
   "metadata": {},
   "outputs": [],
   "source": []
  }
 ],
 "metadata": {
  "kernelspec": {
   "display_name": "Python 3",
   "language": "python",
   "name": "python3"
  },
  "language_info": {
   "codemirror_mode": {
    "name": "ipython",
    "version": 3
   },
   "file_extension": ".py",
   "mimetype": "text/x-python",
   "name": "python",
   "nbconvert_exporter": "python",
   "pygments_lexer": "ipython3",
   "version": "3.10.7"
  },
  "orig_nbformat": 4,
  "vscode": {
   "interpreter": {
    "hash": "d3e10ef16274dd72e574b8fa73b58450b957d8421a2901baded3cca26fcf5dda"
   }
  }
 },
 "nbformat": 4,
 "nbformat_minor": 2
}
