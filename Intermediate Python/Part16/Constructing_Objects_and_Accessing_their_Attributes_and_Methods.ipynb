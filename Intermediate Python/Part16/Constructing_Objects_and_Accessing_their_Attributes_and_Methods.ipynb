{
 "cells": [
  {
   "cell_type": "code",
   "execution_count": 2,
   "metadata": {},
   "outputs": [
    {
     "ename": "Terminator",
     "evalue": "",
     "output_type": "error",
     "traceback": [
      "\u001b[1;31m---------------------------------------------------------------------------\u001b[0m",
      "\u001b[1;31mTerminator\u001b[0m                                Traceback (most recent call last)",
      "Cell \u001b[1;32mIn[2], line 3\u001b[0m\n\u001b[0;32m      1\u001b[0m \u001b[39mimport\u001b[39;00m \u001b[39mturtle\u001b[39;00m \u001b[39mas\u001b[39;00m \u001b[39mtr\u001b[39;00m \u001b[39m#turtle is a prebuilt module\u001b[39;00m\n\u001b[1;32m----> 3\u001b[0m timmy\u001b[39m=\u001b[39mtr\u001b[39m.\u001b[39;49mTurtle() \u001b[39m#from the turtle module we are importing the Turtle class and using it to create a object from it\u001b[39;00m\n\u001b[0;32m      4\u001b[0m \u001b[39m#print(timmy) #it is an object of the class Turtle\u001b[39;00m\n\u001b[0;32m      5\u001b[0m timmy\u001b[39m.\u001b[39mshape(\u001b[39m'\u001b[39m\u001b[39mturtle\u001b[39m\u001b[39m'\u001b[39m) \u001b[39m# changes the shape of the turtle\u001b[39;00m\n",
      "File \u001b[1;32mc:\\Python\\Python310\\lib\\turtle.py:3815\u001b[0m, in \u001b[0;36mTurtle.__init__\u001b[1;34m(self, shape, undobuffersize, visible)\u001b[0m\n\u001b[0;32m   3813\u001b[0m \u001b[39mif\u001b[39;00m Turtle\u001b[39m.\u001b[39m_screen \u001b[39mis\u001b[39;00m \u001b[39mNone\u001b[39;00m:\n\u001b[0;32m   3814\u001b[0m     Turtle\u001b[39m.\u001b[39m_screen \u001b[39m=\u001b[39m Screen()\n\u001b[1;32m-> 3815\u001b[0m RawTurtle\u001b[39m.\u001b[39;49m\u001b[39m__init__\u001b[39;49m(\u001b[39mself\u001b[39;49m, Turtle\u001b[39m.\u001b[39;49m_screen,\n\u001b[0;32m   3816\u001b[0m                    shape\u001b[39m=\u001b[39;49mshape,\n\u001b[0;32m   3817\u001b[0m                    undobuffersize\u001b[39m=\u001b[39;49mundobuffersize,\n\u001b[0;32m   3818\u001b[0m                    visible\u001b[39m=\u001b[39;49mvisible)\n",
      "File \u001b[1;32mc:\\Python\\Python310\\lib\\turtle.py:2558\u001b[0m, in \u001b[0;36mRawTurtle.__init__\u001b[1;34m(self, canvas, shape, undobuffersize, visible)\u001b[0m\n\u001b[0;32m   2556\u001b[0m \u001b[39mself\u001b[39m\u001b[39m.\u001b[39m_undobuffersize \u001b[39m=\u001b[39m undobuffersize\n\u001b[0;32m   2557\u001b[0m \u001b[39mself\u001b[39m\u001b[39m.\u001b[39mundobuffer \u001b[39m=\u001b[39m Tbuffer(undobuffersize)\n\u001b[1;32m-> 2558\u001b[0m \u001b[39mself\u001b[39;49m\u001b[39m.\u001b[39;49m_update()\n",
      "File \u001b[1;32mc:\\Python\\Python310\\lib\\turtle.py:2661\u001b[0m, in \u001b[0;36mRawTurtle._update\u001b[1;34m(self)\u001b[0m\n\u001b[0;32m   2659\u001b[0m     \u001b[39mreturn\u001b[39;00m\n\u001b[0;32m   2660\u001b[0m \u001b[39melif\u001b[39;00m screen\u001b[39m.\u001b[39m_tracing \u001b[39m==\u001b[39m \u001b[39m1\u001b[39m:\n\u001b[1;32m-> 2661\u001b[0m     \u001b[39mself\u001b[39;49m\u001b[39m.\u001b[39;49m_update_data()\n\u001b[0;32m   2662\u001b[0m     \u001b[39mself\u001b[39m\u001b[39m.\u001b[39m_drawturtle()\n\u001b[0;32m   2663\u001b[0m     screen\u001b[39m.\u001b[39m_update()                  \u001b[39m# TurtleScreenBase\u001b[39;00m\n",
      "File \u001b[1;32mc:\\Python\\Python310\\lib\\turtle.py:2647\u001b[0m, in \u001b[0;36mRawTurtle._update_data\u001b[1;34m(self)\u001b[0m\n\u001b[0;32m   2646\u001b[0m \u001b[39mdef\u001b[39;00m \u001b[39m_update_data\u001b[39m(\u001b[39mself\u001b[39m):\n\u001b[1;32m-> 2647\u001b[0m     \u001b[39mself\u001b[39;49m\u001b[39m.\u001b[39;49mscreen\u001b[39m.\u001b[39;49m_incrementudc()\n\u001b[0;32m   2648\u001b[0m     \u001b[39mif\u001b[39;00m \u001b[39mself\u001b[39m\u001b[39m.\u001b[39mscreen\u001b[39m.\u001b[39m_updatecounter \u001b[39m!=\u001b[39m \u001b[39m0\u001b[39m:\n\u001b[0;32m   2649\u001b[0m         \u001b[39mreturn\u001b[39;00m\n",
      "File \u001b[1;32mc:\\Python\\Python310\\lib\\turtle.py:1293\u001b[0m, in \u001b[0;36mTurtleScreen._incrementudc\u001b[1;34m(self)\u001b[0m\n\u001b[0;32m   1291\u001b[0m \u001b[39mif\u001b[39;00m \u001b[39mnot\u001b[39;00m TurtleScreen\u001b[39m.\u001b[39m_RUNNING:\n\u001b[0;32m   1292\u001b[0m     TurtleScreen\u001b[39m.\u001b[39m_RUNNING \u001b[39m=\u001b[39m \u001b[39mTrue\u001b[39;00m\n\u001b[1;32m-> 1293\u001b[0m     \u001b[39mraise\u001b[39;00m Terminator\n\u001b[0;32m   1294\u001b[0m \u001b[39mif\u001b[39;00m \u001b[39mself\u001b[39m\u001b[39m.\u001b[39m_tracing \u001b[39m>\u001b[39m \u001b[39m0\u001b[39m:\n\u001b[0;32m   1295\u001b[0m     \u001b[39mself\u001b[39m\u001b[39m.\u001b[39m_updatecounter \u001b[39m+\u001b[39m\u001b[39m=\u001b[39m \u001b[39m1\u001b[39m\n",
      "\u001b[1;31mTerminator\u001b[0m: "
     ]
    },
    {
     "ename": "",
     "evalue": "",
     "output_type": "error",
     "traceback": [
      "\u001b[1;31mThe Kernel crashed while executing code in the the current cell or a previous cell. Please review the code in the cell(s) to identify a possible cause of the failure. Click <a href='https://aka.ms/vscodeJupyterKernelCrash'>here</a> for more info. View Jupyter <a href='command:jupyter.viewOutput'>log</a> for further details."
     ]
    }
   ],
   "source": [
    "import turtle as tr #turtle is a prebuilt module\n",
    "\n",
    "timmy=tr.Turtle() #from the turtle module we are importing the Turtle class and using it to create a object from it\n",
    "#print(timmy) #it is an object of the class Turtle\n",
    "timmy.shape('turtle') # changes the shape of the turtle\n",
    "timmy.color('Red') #chaging the color of the turtle\n",
    "timmy.forward(100)\n",
    "my_screen=tr.Screen() #it is the screen on which the turtle object is going to show up\n",
    "\n",
    "print(my_screen.canvheight)  #prints the height for the screen created\n",
    "\n",
    "my_screen.exitonclick() \n",
    "# as the turtle object is created it opens up whenever the program runs\n",
    "#its canvas height is determined by the attribute canvheight\n"
   ]
  },
  {
   "cell_type": "code",
   "execution_count": 1,
   "metadata": {},
   "outputs": [
    {
     "name": "stdout",
     "output_type": "stream",
     "text": [
      "<class 'type'>\n"
     ]
    }
   ],
   "source": [
    "print(type(str))"
   ]
  },
  {
   "cell_type": "code",
   "execution_count": null,
   "metadata": {},
   "outputs": [],
   "source": []
  }
 ],
 "metadata": {
  "kernelspec": {
   "display_name": "Python 3",
   "language": "python",
   "name": "python3"
  },
  "language_info": {
   "codemirror_mode": {
    "name": "ipython",
    "version": 3
   },
   "file_extension": ".py",
   "mimetype": "text/x-python",
   "name": "python",
   "nbconvert_exporter": "python",
   "pygments_lexer": "ipython3",
   "version": "3.10.7"
  },
  "orig_nbformat": 4,
  "vscode": {
   "interpreter": {
    "hash": "d3e10ef16274dd72e574b8fa73b58450b957d8421a2901baded3cca26fcf5dda"
   }
  }
 },
 "nbformat": 4,
 "nbformat_minor": 2
}
