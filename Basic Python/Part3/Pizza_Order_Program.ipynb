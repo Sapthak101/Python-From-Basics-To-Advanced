{
 "cells": [
  {
   "cell_type": "code",
   "execution_count": 3,
   "metadata": {},
   "outputs": [
    {
     "name": "stdout",
     "output_type": "stream",
     "text": [
      "Welcome to Sapthak's Pizza: \n",
      "Your final bill is: $27\n"
     ]
    }
   ],
   "source": [
    "print(\"Welcome to Sapthak's Pizza: \")\n",
    "size=input(\"What size of Pizza do you want to have: Small/Medium/Large\")\n",
    "\n",
    "if size=='Large':\n",
    "    add_pepperoni=input(\"Do you want to add pepperoni ? (Y/N)\")\n",
    "    extra_cheese=input(\"Do you want to add extra cheese ? (Y/N)\")\n",
    "    bill=0\n",
    "    if (add_pepperoni=='Y'):\n",
    "        if (extra_cheese=='Y'):\n",
    "            bill=25+2+3\n",
    "        else:\n",
    "            bill=25+2\n",
    "    else:\n",
    "        bill=25\n",
    "    print(f\"Your final bill is: ${bill}\")\n",
    "elif size=='Medium':\n",
    "    add_pepperoni=input(\"Do you want to add pepperoni ? (Y/N)\")\n",
    "    extra_cheese=input(\"Do you want to add extra cheese ? (Y/N)\")\n",
    "    bill=0\n",
    "    if (add_pepperoni=='Y'):\n",
    "        if (extra_cheese=='Y'):\n",
    "            bill=20+2+3\n",
    "        else:\n",
    "            bill=20+2\n",
    "    else:\n",
    "        bill=20\n",
    "    print(f\"Your final bill is: ${bill}\")\n",
    "elif size=='Small':\n",
    "    add_pepperoni=input(\"Do you want to add pepperoni ? (Y/N)\")\n",
    "    extra_cheese=input(\"Do you want to add extra cheese ? (Y/N)\")\n",
    "    bill=0\n",
    "    if (add_pepperoni=='Y'):\n",
    "        if (extra_cheese=='Y'):\n",
    "            bill=15+2+3\n",
    "        else:\n",
    "            bill=15+2\n",
    "    else:\n",
    "        bill=15\n",
    "    print(f\"Your final bill is: ${bill}\")\n",
    "\n",
    "else:\n",
    "    print(\"Sorry for not being able to serve you\")"
   ]
  }
 ],
 "metadata": {
  "kernelspec": {
   "display_name": "Python 3",
   "language": "python",
   "name": "python3"
  },
  "language_info": {
   "codemirror_mode": {
    "name": "ipython",
    "version": 3
   },
   "file_extension": ".py",
   "mimetype": "text/x-python",
   "name": "python",
   "nbconvert_exporter": "python",
   "pygments_lexer": "ipython3",
   "version": "3.10.7"
  },
  "orig_nbformat": 4,
  "vscode": {
   "interpreter": {
    "hash": "d3e10ef16274dd72e574b8fa73b58450b957d8421a2901baded3cca26fcf5dda"
   }
  }
 },
 "nbformat": 4,
 "nbformat_minor": 2
}
