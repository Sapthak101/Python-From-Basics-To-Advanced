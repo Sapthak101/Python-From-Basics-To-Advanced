{
 "cells": [
  {
   "cell_type": "code",
   "execution_count": 2,
   "metadata": {},
   "outputs": [
    {
     "name": "stdout",
     "output_type": "stream",
     "text": [
      "You cannot take a ride\n"
     ]
    }
   ],
   "source": [
    "#ticket purchase via height comparison\n",
    "height=int(float(input(\"Enter your height: \\n\")))\n",
    "\n",
    "if height>=120: #comparison opertors-> >,<,>=,<=,==,!=\n",
    "    print(\"You can take a ride\")\n",
    "else:\n",
    "    print(\"You cannot take a ride\")"
   ]
  },
  {
   "cell_type": "code",
   "execution_count": 3,
   "metadata": {},
   "outputs": [
    {
     "name": "stdout",
     "output_type": "stream",
     "text": [
      "23 is Odd\n"
     ]
    }
   ],
   "source": [
    "#odd/even checker\n",
    "num=int(input(\"Enter an integer number: \"))\n",
    "\n",
    "if num%2==0:\n",
    "    print(f\"{num} is Even\")\n",
    "else:\n",
    "    print(f\"{num} is Odd\")"
   ]
  },
  {
   "cell_type": "code",
   "execution_count": 4,
   "metadata": {},
   "outputs": [
    {
     "name": "stdout",
     "output_type": "stream",
     "text": [
      "You can take a ride\n",
      "Your ticket will cost $18\n"
     ]
    }
   ],
   "source": [
    "#neted if statemnets\n",
    "height=int(float(input(\"Enter your height: \\n\")))\n",
    "if height>=120:\n",
    "    print(\"You can take a ride\")\n",
    "    age=int(input(\"Enter your age: \"))\n",
    "    if age<12:\n",
    "        print(\"Your ticket will cost $5.\")\n",
    "    elif age<=18:\n",
    "        print(\"Your ticket cost is $7.\")\n",
    "    else:\n",
    "        print(\"Your ticket will cost $13.\")\n",
    "else:\n",
    "    print(\"You cannot take a ride\")\n",
    "\n",
    "#under a particular if case statement check only one condition and if that case is true all the subsequent conditions are not check under \n",
    "#the current indentation\n",
    "#this theory is also same for the other programming languages too\n",
    "\n"
   ]
  },
  {
   "cell_type": "code",
   "execution_count": null,
   "metadata": {},
   "outputs": [],
   "source": []
  }
 ],
 "metadata": {
  "kernelspec": {
   "display_name": "Python 3",
   "language": "python",
   "name": "python3"
  },
  "language_info": {
   "codemirror_mode": {
    "name": "ipython",
    "version": 3
   },
   "file_extension": ".py",
   "mimetype": "text/x-python",
   "name": "python",
   "nbconvert_exporter": "python",
   "pygments_lexer": "ipython3",
   "version": "3.10.7"
  },
  "orig_nbformat": 4,
  "vscode": {
   "interpreter": {
    "hash": "d3e10ef16274dd72e574b8fa73b58450b957d8421a2901baded3cca26fcf5dda"
   }
  }
 },
 "nbformat": 4,
 "nbformat_minor": 2
}
