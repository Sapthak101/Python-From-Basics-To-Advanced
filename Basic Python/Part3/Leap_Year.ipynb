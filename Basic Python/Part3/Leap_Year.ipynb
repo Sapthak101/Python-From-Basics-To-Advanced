{
 "cells": [
  {
   "cell_type": "code",
   "execution_count": 3,
   "metadata": {},
   "outputs": [
    {
     "name": "stdout",
     "output_type": "stream",
     "text": [
      "It is a leap Year\n"
     ]
    }
   ],
   "source": [
    "year=int(input(\"Enter a year: \"))\n",
    "\n",
    "if (year%4==0): #brackets used with the if statements are not mandatory\n",
    "    if (year%100==0):\n",
    "        if (year%400==0):\n",
    "            print(\"It is a Leap Year\")\n",
    "        else:\n",
    "            print(\"It is not a Leap Year\")\n",
    "    else:\n",
    "        print(\"It is a leap Year\")\n",
    "else:\n",
    "    print(\"It is not a leap year\")"
   ]
  }
 ],
 "metadata": {
  "kernelspec": {
   "display_name": "Python 3",
   "language": "python",
   "name": "python3"
  },
  "language_info": {
   "codemirror_mode": {
    "name": "ipython",
    "version": 3
   },
   "file_extension": ".py",
   "mimetype": "text/x-python",
   "name": "python",
   "nbconvert_exporter": "python",
   "pygments_lexer": "ipython3",
   "version": "3.10.7"
  },
  "orig_nbformat": 4,
  "vscode": {
   "interpreter": {
    "hash": "d3e10ef16274dd72e574b8fa73b58450b957d8421a2901baded3cca26fcf5dda"
   }
  }
 },
 "nbformat": 4,
 "nbformat_minor": 2
}
