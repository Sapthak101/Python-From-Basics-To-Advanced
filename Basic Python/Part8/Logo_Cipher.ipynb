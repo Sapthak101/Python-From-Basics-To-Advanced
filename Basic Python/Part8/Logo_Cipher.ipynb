{
 "cells": [
  {
   "cell_type": "code",
   "execution_count": null,
   "metadata": {},
   "outputs": [],
   "source": [
    "logo = \"\"\"           \n",
    " ,adPPYba, ,adPPYYba,  ,adPPYba, ,adPPYba, ,adPPYYba, 8b,dPPYba,  \n",
    "a8\"     \"\" \"\"     `Y8 a8P_____88 I8[    \"\" \"\"     `Y8 88P'   \"Y8  \n",
    "8b         ,adPPPPP88 8PP\"\"\"\"\"\"\"  `\"Y8ba,  ,adPPPPP88 88          \n",
    "\"8a,   ,aa 88,    ,88 \"8b,   ,aa aa    ]8I 88,    ,88 88          \n",
    " `\"Ybbd8\"' `\"8bbdP\"Y8  `\"Ybbd8\"' `\"YbbdP\"' `\"8bbdP\"Y8 88   \n",
    "            88             88                                 \n",
    "           \"\"             88                                 \n",
    "                          88                                 \n",
    " ,adPPYba, 88 8b,dPPYba,  88,dPPYba,   ,adPPYba, 8b,dPPYba,  \n",
    "a8\"     \"\" 88 88P'    \"8a 88P'    \"8a a8P_____88 88P'   \"Y8  \n",
    "8b         88 88       d8 88       88 8PP\"\"\"\"\"\"\" 88          \n",
    "\"8a,   ,aa 88 88b,   ,a8\" 88       88 \"8b,   ,aa 88          \n",
    " `\"Ybbd8\"' 88 88`YbbdP\"'  88       88  `\"Ybbd8\"' 88          \n",
    "              88                                             \n",
    "              88           \n",
    "\"\"\""
   ]
  }
 ],
 "metadata": {
  "kernelspec": {
   "display_name": "Python 3",
   "language": "python",
   "name": "python3"
  },
  "language_info": {
   "name": "python",
   "version": "3.10.7"
  },
  "orig_nbformat": 4,
  "vscode": {
   "interpreter": {
    "hash": "d3e10ef16274dd72e574b8fa73b58450b957d8421a2901baded3cca26fcf5dda"
   }
  }
 },
 "nbformat": 4,
 "nbformat_minor": 2
}
