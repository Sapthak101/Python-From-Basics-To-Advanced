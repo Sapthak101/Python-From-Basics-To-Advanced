{
 "cells": [
  {
   "cell_type": "code",
   "execution_count": 8,
   "metadata": {},
   "outputs": [
    {
     "name": "stdout",
     "output_type": "stream",
     "text": [
      "The number 17 is a prime number\n"
     ]
    }
   ],
   "source": [
    "def prime_checker(num):\n",
    "    count=0\n",
    "    for number in range(2, num):\n",
    "        if (num%number==0):\n",
    "            print(f\"The number {num} is not Prime\")\n",
    "            break\n",
    "        else:\n",
    "            count+=1\n",
    "    if count>0:\n",
    "        print(f\"The number {num} is a prime number\")\n",
    "\n",
    "\n",
    "num=input(\"Enter a number: \")\n",
    "prime_checker(int(num))"
   ]
  }
 ],
 "metadata": {
  "kernelspec": {
   "display_name": "Python 3",
   "language": "python",
   "name": "python3"
  },
  "language_info": {
   "codemirror_mode": {
    "name": "ipython",
    "version": 3
   },
   "file_extension": ".py",
   "mimetype": "text/x-python",
   "name": "python",
   "nbconvert_exporter": "python",
   "pygments_lexer": "ipython3",
   "version": "3.10.7"
  },
  "orig_nbformat": 4,
  "vscode": {
   "interpreter": {
    "hash": "d3e10ef16274dd72e574b8fa73b58450b957d8421a2901baded3cca26fcf5dda"
   }
  }
 },
 "nbformat": 4,
 "nbformat_minor": 2
}
