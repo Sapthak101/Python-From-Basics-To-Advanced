{
 "cells": [
  {
   "cell_type": "code",
   "execution_count": 1,
   "metadata": {},
   "outputs": [
    {
     "name": "stdout",
     "output_type": "stream",
     "text": [
      "0\n",
      "1\n",
      "1\n",
      "0\n"
     ]
    }
   ],
   "source": [
    "class UserClass: #Pascal Casing with each distinguised word in the class name is starting with a capital letter\n",
    "    pass #variables can be there but they should not be initialized\n",
    "    def __init__(self, a, b): #constructor, self is the actual object that is being initialized\n",
    "        self.id=a\n",
    "        self.username=b\n",
    "        self.followers=0\n",
    "        self.following=0\n",
    "    def follow(self, user):\n",
    "        user.followers+=1\n",
    "        self.following+=1\n",
    "        self.dog=1\n",
    "user_1=UserClass(\"001\",\"Sapthak\") #argument for parameter a\n",
    "user_2=UserClass(\"002\", \"Mohajon\")\n",
    "\n",
    "user_1.follow(user_2)\n",
    "print(user_1.followers)\n",
    "print(user_1.following)\n",
    "print(user_2.followers)\n",
    "print(user_2.following)\n",
    "\n",
    "#Special note on Python Classes objects\n",
    "#as seen earlier whenever we crate a class (a template for an object)\n",
    "#that is why when python objects are created\n",
    "#the methods for that particular object is stored seperately at a seperate location with \n",
    "#all the objects of the same class shares the same method\n",
    "#but for every object what is unique is their data member and reference\n",
    "#that is why when a object method is called the reference of the object is passed implicitely\n",
    "#using that reference and . operator data member for a particular object is acccessed applicable for the objects of diferenct class too\n"
   ]
  },
  {
   "cell_type": "code",
   "execution_count": null,
   "metadata": {},
   "outputs": [],
   "source": []
  }
 ],
 "metadata": {
  "kernelspec": {
   "display_name": "Python 3",
   "language": "python",
   "name": "python3"
  },
  "language_info": {
   "codemirror_mode": {
    "name": "ipython",
    "version": 3
   },
   "file_extension": ".py",
   "mimetype": "text/x-python",
   "name": "python",
   "nbconvert_exporter": "python",
   "pygments_lexer": "ipython3",
   "version": "3.10.7"
  },
  "orig_nbformat": 4,
  "vscode": {
   "interpreter": {
    "hash": "d3e10ef16274dd72e574b8fa73b58450b957d8421a2901baded3cca26fcf5dda"
   }
  }
 },
 "nbformat": 4,
 "nbformat_minor": 2
}
