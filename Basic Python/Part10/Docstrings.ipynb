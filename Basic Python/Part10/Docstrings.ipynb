{
 "cells": [
  {
   "cell_type": "code",
   "execution_count": null,
   "metadata": {},
   "outputs": [],
   "source": [
    "#Docstrings are implemeted to give an explanation to a funtion when it is called\n",
    "#Docstring is the first sentence or sentences after the funtion prototype\n",
    "#written between \"\"\" \"\"\" these three sets of invited commas, which can be both single and multiline\n",
    "#the mouse cursor is hovered accross the function when it is called the whole details of the funtion is displayed\n",
    "#Docstrings also be implemented as comment lines\n",
    "#or can be used to assign it to a variable as a string\n",
    "#which can be converted to an integer or a float incase if any numbers are given as na input\n"
   ]
  }
 ],
 "metadata": {
  "language_info": {
   "name": "python"
  },
  "orig_nbformat": 4
 },
 "nbformat": 4,
 "nbformat_minor": 2
}
