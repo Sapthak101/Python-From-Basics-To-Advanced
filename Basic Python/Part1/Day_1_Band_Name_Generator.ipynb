{
 "cells": [
  {
   "cell_type": "code",
   "execution_count": 1,
   "metadata": {},
   "outputs": [
    {
     "name": "stdout",
     "output_type": "stream",
     "text": [
      "Welcome to the Band Name Generator: \n",
      "Your band name is: Chattogram Tiger\n"
     ]
    }
   ],
   "source": [
    "print(\"Welcome to the Band Name Generator: \")\n",
    "city=input(\"Enter your city name: \\n\")\n",
    "pet=input(\"Enter your pet name: \\n\")\n",
    "print(\"Your band name is: \"+city+\" \"+pet)\n",
    "#the len() function cannot be used with primitive datatypes in python"
   ]
  }
 ],
 "metadata": {
  "kernelspec": {
   "display_name": "Python 3",
   "language": "python",
   "name": "python3"
  },
  "language_info": {
   "codemirror_mode": {
    "name": "ipython",
    "version": 3
   },
   "file_extension": ".py",
   "mimetype": "text/x-python",
   "name": "python",
   "nbconvert_exporter": "python",
   "pygments_lexer": "ipython3",
   "version": "3.10.7"
  },
  "orig_nbformat": 4,
  "vscode": {
   "interpreter": {
    "hash": "d3e10ef16274dd72e574b8fa73b58450b957d8421a2901baded3cca26fcf5dda"
   }
  }
 },
 "nbformat": 4,
 "nbformat_minor": 2
}
