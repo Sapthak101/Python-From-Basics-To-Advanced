{
 "cells": [
  {
   "cell_type": "code",
   "execution_count": 1,
   "metadata": {},
   "outputs": [
    {
     "ename": "NameError",
     "evalue": "name 'new_enemy' is not defined",
     "output_type": "error",
     "traceback": [
      "\u001b[1;31m---------------------------------------------------------------------------\u001b[0m",
      "\u001b[1;31mNameError\u001b[0m                                 Traceback (most recent call last)",
      "Cell \u001b[1;32mIn[1], line 5\u001b[0m\n\u001b[0;32m      3\u001b[0m \u001b[39mif\u001b[39;00m game_level\u001b[39m<\u001b[39m\u001b[39m5\u001b[39m:\n\u001b[0;32m      4\u001b[0m     new_ememy\u001b[39m=\u001b[39mentity[\u001b[39m0\u001b[39m]\n\u001b[1;32m----> 5\u001b[0m \u001b[39mprint\u001b[39m(new_enemy)\n",
      "\u001b[1;31mNameError\u001b[0m: name 'new_enemy' is not defined"
     ]
    }
   ],
   "source": [
    "game_level=3\n",
    "entity=[\"1\", \"2\", \"3\"]\n",
    "if game_level<5:\n",
    "    new_ememy=entity[0]\n",
    "print(new_enemy)\n",
    "#inpython 3 scopes within the if statement is present, the same applies for the funtion/Namsspaces\n"
   ]
  },
  {
   "cell_type": "code",
   "execution_count": null,
   "metadata": {},
   "outputs": [],
   "source": []
  }
 ],
 "metadata": {
  "kernelspec": {
   "display_name": "Python 3",
   "language": "python",
   "name": "python3"
  },
  "language_info": {
   "codemirror_mode": {
    "name": "ipython",
    "version": 3
   },
   "file_extension": ".py",
   "mimetype": "text/x-python",
   "name": "python",
   "nbconvert_exporter": "python",
   "pygments_lexer": "ipython3",
   "version": "3.10.7"
  },
  "orig_nbformat": 4,
  "vscode": {
   "interpreter": {
    "hash": "d3e10ef16274dd72e574b8fa73b58450b957d8421a2901baded3cca26fcf5dda"
   }
  }
 },
 "nbformat": 4,
 "nbformat_minor": 2
}
