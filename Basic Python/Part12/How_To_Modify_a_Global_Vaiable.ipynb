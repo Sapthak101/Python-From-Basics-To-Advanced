{
 "cells": [
  {
   "cell_type": "code",
   "execution_count": 2,
   "metadata": {},
   "outputs": [
    {
     "ename": "UnboundLocalError",
     "evalue": "local variable 'enemies' referenced before assignment",
     "output_type": "error",
     "traceback": [
      "\u001b[1;31m---------------------------------------------------------------------------\u001b[0m",
      "\u001b[1;31mUnboundLocalError\u001b[0m                         Traceback (most recent call last)",
      "Cell \u001b[1;32mIn[2], line 7\u001b[0m\n\u001b[0;32m      5\u001b[0m     enemies\u001b[39m+\u001b[39m\u001b[39m=\u001b[39m\u001b[39m1\u001b[39m\n\u001b[0;32m      6\u001b[0m     \u001b[39mprint\u001b[39m(\u001b[39mf\u001b[39m\u001b[39m\"\u001b[39m\u001b[39mEnemies inside funtion: \u001b[39m\u001b[39m{\u001b[39;00menemies\u001b[39m}\u001b[39;00m\u001b[39m\"\u001b[39m)\n\u001b[1;32m----> 7\u001b[0m increase_enemies()\n\u001b[0;32m      8\u001b[0m \u001b[39mprint\u001b[39m(\u001b[39mf\u001b[39m\u001b[39m\"\u001b[39m\u001b[39mEnemies outside funtion: \u001b[39m\u001b[39m{\u001b[39;00menemies\u001b[39m}\u001b[39;00m\u001b[39m\"\u001b[39m)\n",
      "Cell \u001b[1;32mIn[2], line 5\u001b[0m, in \u001b[0;36mincrease_enemies\u001b[1;34m()\u001b[0m\n\u001b[0;32m      3\u001b[0m \u001b[39mdef\u001b[39;00m \u001b[39mincrease_enemies\u001b[39m():\n\u001b[0;32m      4\u001b[0m     \u001b[39m#a global variable cannot be midifed within a local scope\u001b[39;00m\n\u001b[1;32m----> 5\u001b[0m     enemies\u001b[39m+\u001b[39m\u001b[39m=\u001b[39m\u001b[39m1\u001b[39m\n\u001b[0;32m      6\u001b[0m     \u001b[39mprint\u001b[39m(\u001b[39mf\u001b[39m\u001b[39m\"\u001b[39m\u001b[39mEnemies inside funtion: \u001b[39m\u001b[39m{\u001b[39;00menemies\u001b[39m}\u001b[39;00m\u001b[39m\"\u001b[39m)\n",
      "\u001b[1;31mUnboundLocalError\u001b[0m: local variable 'enemies' referenced before assignment"
     ]
    }
   ],
   "source": [
    "enemies=1\n",
    "\n",
    "def increase_enemies():\n",
    "    #a global variable cannot be midifed within a local scope\n",
    "    enemies+=1\n",
    "    print(f\"Enemies inside funtion: {enemies}\")\n",
    "increase_enemies()\n",
    "print(f\"Enemies outside funtion: {enemies}\")"
   ]
  },
  {
   "cell_type": "code",
   "execution_count": 4,
   "metadata": {},
   "outputs": [
    {
     "name": "stdout",
     "output_type": "stream",
     "text": [
      "Enemies inside funtion: 2\n",
      "Enemies outside funtion: 3\n"
     ]
    }
   ],
   "source": [
    "enemies=1\n",
    "\n",
    "def increase_enemies():\n",
    "    global enemies#a global variable cannot be midifed within a local scope\n",
    "    enemies+=1\n",
    "    print(f\"Enemies inside funtion: {enemies}\")\n",
    "increase_enemies()\n",
    "print(f\"Enemies outside funtion: {enemies+1}\")"
   ]
  },
  {
   "cell_type": "code",
   "execution_count": null,
   "metadata": {},
   "outputs": [],
   "source": [
    "enemies=1\n",
    "\n",
    "def increase_enemies():\n",
    "    enemies=0\n",
    "    enemies+=1 # creates a new varible named enemy within the local scope\n",
    "    print(f\"Enemies inside funtion: {enemies}\")\n",
    "increase_enemies()\n",
    "print(f\"Enemies outside funtion: {enemies}\")"
   ]
  }
 ],
 "metadata": {
  "kernelspec": {
   "display_name": "Python 3",
   "language": "python",
   "name": "python3"
  },
  "language_info": {
   "codemirror_mode": {
    "name": "ipython",
    "version": 3
   },
   "file_extension": ".py",
   "mimetype": "text/x-python",
   "name": "python",
   "nbconvert_exporter": "python",
   "pygments_lexer": "ipython3",
   "version": "3.10.7"
  },
  "orig_nbformat": 4,
  "vscode": {
   "interpreter": {
    "hash": "d3e10ef16274dd72e574b8fa73b58450b957d8421a2901baded3cca26fcf5dda"
   }
  }
 },
 "nbformat": 4,
 "nbformat_minor": 2
}
