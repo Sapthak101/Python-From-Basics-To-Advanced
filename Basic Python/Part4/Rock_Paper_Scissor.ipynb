{
 "cells": [
  {
   "cell_type": "code",
   "execution_count": 2,
   "metadata": {},
   "outputs": [
    {
     "name": "stdout",
     "output_type": "stream",
     "text": [
      "\n",
      "    _______\n",
      "---'   ____)____\n",
      "          ______)\n",
      "       __________)\n",
      "      (____)\n",
      "---.__(___)\n",
      "\n",
      "Computer choose:\n",
      "\n",
      "    _______\n",
      "---'   ____)____\n",
      "          ______)\n",
      "          _______)\n",
      "         _______)\n",
      "---.__________)\n",
      "\n",
      "You win!\n"
     ]
    }
   ],
   "source": [
    "import random as rn\n",
    "#ascii art can be automatically assigned to a variable\n",
    "rock=''' \n",
    "    _______\n",
    "---'   ____)\n",
    "      (_____)\n",
    "      (_____)\n",
    "      (____)\n",
    "---.__(___)\n",
    "'''\n",
    "\n",
    "paper='''\n",
    "    _______\n",
    "---'   ____)____\n",
    "          ______)\n",
    "          _______)\n",
    "         _______)\n",
    "---.__________)\n",
    "'''\n",
    "\n",
    "scissors='''\n",
    "    _______\n",
    "---'   ____)____\n",
    "          ______)\n",
    "       __________)\n",
    "      (____)\n",
    "---.__(___)\n",
    "'''\n",
    "game_ima=[rock, paper, scissors]\n",
    "\n",
    "user_choi=int(input(\"What do you choose? Type 0 for Rock, 1 for Paper or 2 for Scissors.\\n\"))\n",
    "print(game_ima[user_choi])\n",
    "\n",
    "computer_choi=rn.randint(0, 2)\n",
    "print(\"Computer choose:\")\n",
    "print(game_ima[computer_choi])\n",
    "\n",
    "if user_choi>=3 or user_choi<0: \n",
    "  print(\"An invalid number is given as input\") \n",
    "elif user_choi==0 and computer_choi==2:\n",
    "  print(\"You win!\")\n",
    "elif computer_choi==0 and user_choi==2:\n",
    "  print(\"You lose\")\n",
    "elif computer_choi>user_choi:\n",
    "  print(\"You lose\")\n",
    "elif user_choi>computer_choi:\n",
    "  print(\"You win!\")\n",
    "else:\n",
    "  print(\"It's a draw\")\n",
    "\n",
    "  "
   ]
  },
  {
   "cell_type": "code",
   "execution_count": null,
   "metadata": {},
   "outputs": [],
   "source": []
  }
 ],
 "metadata": {
  "kernelspec": {
   "display_name": "Python 3",
   "language": "python",
   "name": "python3"
  },
  "language_info": {
   "codemirror_mode": {
    "name": "ipython",
    "version": 3
   },
   "file_extension": ".py",
   "mimetype": "text/x-python",
   "name": "python",
   "nbconvert_exporter": "python",
   "pygments_lexer": "ipython3",
   "version": "3.10.7"
  },
  "orig_nbformat": 4,
  "vscode": {
   "interpreter": {
    "hash": "d3e10ef16274dd72e574b8fa73b58450b957d8421a2901baded3cca26fcf5dda"
   }
  }
 },
 "nbformat": 4,
 "nbformat_minor": 2
}
