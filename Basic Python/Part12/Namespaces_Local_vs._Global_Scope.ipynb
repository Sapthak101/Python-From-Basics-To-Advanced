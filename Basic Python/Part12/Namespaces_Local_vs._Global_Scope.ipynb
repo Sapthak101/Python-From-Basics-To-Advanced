{
 "cells": [
  {
   "cell_type": "code",
   "execution_count": 4,
   "metadata": {},
   "outputs": [
    {
     "name": "stdout",
     "output_type": "stream",
     "text": [
      "2\n",
      "2\n"
     ]
    }
   ],
   "source": [
    "val=2 #global scope, acccessible to the funtions and the preceding codes\n",
    "\n",
    "def show_val():\n",
    "    if (1):\n",
    "        print(val)\n",
    "show_val()\n",
    "print(val)"
   ]
  },
  {
   "cell_type": "code",
   "execution_count": 5,
   "metadata": {},
   "outputs": [
    {
     "name": "stdout",
     "output_type": "stream",
     "text": [
      "6\n",
      "2\n"
     ]
    }
   ],
   "source": [
    "val=2\n",
    "\n",
    "def show_val():\n",
    "    val=6 #local scope \n",
    "    print(val)\n",
    "show_val()\n",
    "print(val)"
   ]
  },
  {
   "cell_type": "code",
   "execution_count": 6,
   "metadata": {},
   "outputs": [
    {
     "name": "stdout",
     "output_type": "stream",
     "text": [
      "2\n",
      "2\n"
     ]
    }
   ],
   "source": [
    "val=2 #global scope, acccessible to the funtions and the preceding codes\n",
    "\n",
    "def show_val():\n",
    "    print(val)\n",
    "show_val()\n",
    "print(val)"
   ]
  },
  {
   "cell_type": "code",
   "execution_count": null,
   "metadata": {},
   "outputs": [],
   "source": [
    "player_health=10\n",
    "\n",
    "def game():\n",
    "    def drink_portion():\n",
    "        portion_strength=2\n",
    "        print(player_health)\n",
    "    drink_portion()\n",
    "\n",
    "game()\n",
    "#drink_portion() will not work because its scope is within the function game, to call the drink portion we need to be within the game funtion (Namespaces)\n",
    "# the same occurs for the variables also"
   ]
  }
 ],
 "metadata": {
  "kernelspec": {
   "display_name": "Python 3",
   "language": "python",
   "name": "python3"
  },
  "language_info": {
   "codemirror_mode": {
    "name": "ipython",
    "version": 3
   },
   "file_extension": ".py",
   "mimetype": "text/x-python",
   "name": "python",
   "nbconvert_exporter": "python",
   "pygments_lexer": "ipython3",
   "version": "3.10.7"
  },
  "orig_nbformat": 4,
  "vscode": {
   "interpreter": {
    "hash": "d3e10ef16274dd72e574b8fa73b58450b957d8421a2901baded3cca26fcf5dda"
   }
  }
 },
 "nbformat": 4,
 "nbformat_minor": 2
}
