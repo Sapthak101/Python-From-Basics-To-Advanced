{
 "cells": [
  {
   "cell_type": "code",
   "execution_count": 5,
   "metadata": {},
   "outputs": [
    {
     "name": "stdout",
     "output_type": "stream",
     "text": [
      "{'Sapthak': 100, 'Diego': 1}\n",
      "100\n",
      "{'Sapthak': 100, 'Diego': 1, 'John': 89}\n"
     ]
    }
   ],
   "source": [
    "dictionary1={  #General format of a Dictionary\n",
    "    \"Sapthak\":100, \n",
    "    \"Diego\":1\n",
    "}\n",
    "#the dictionary key cannot be a variable\n",
    "print(dictionary1)\n",
    "print(dictionary1[\"Sapthak\"]) #retriving a value for a particular key in a diciotnary\n",
    "dictionary1[\"John\"]=89\n",
    "print(dictionary1)"
   ]
  },
  {
   "cell_type": "code",
   "execution_count": 7,
   "metadata": {},
   "outputs": [
    {
     "name": "stdout",
     "output_type": "stream",
     "text": [
      "{'1': 45}\n"
     ]
    }
   ],
   "source": [
    "dictionary2={} #emoty dictionary, like empty list list1=[]\n",
    "#dictionary can be thereby appended using\n",
    "dictionary2[\"1\"]=45\n",
    "print(dictionary2)"
   ]
  },
  {
   "cell_type": "code",
   "execution_count": 12,
   "metadata": {},
   "outputs": [
    {
     "name": "stdout",
     "output_type": "stream",
     "text": [
      "{'1': 1, '2': 'Sapthak'}\n"
     ]
    }
   ],
   "source": [
    "dog=1\n",
    "tiger=\"Sapthak\"\n",
    "dictionary2={\"1\":dog, \"2\":tiger}\n",
    "print(dictionary2) #string while priting the whole dictionary comes with on a pair of invited commas"
   ]
  },
  {
   "cell_type": "code",
   "execution_count": 13,
   "metadata": {},
   "outputs": [
    {
     "name": "stdout",
     "output_type": "stream",
     "text": [
      "{1: '1', 'Sapthak': '2'}\n"
     ]
    }
   ],
   "source": [
    "dictionary3={dog:\"1\", tiger:\"2\"}\n",
    "print(dictionary3)"
   ]
  },
  {
   "cell_type": "code",
   "execution_count": 14,
   "metadata": {},
   "outputs": [],
   "source": [
    "#to delete a dictionary\n",
    "dictionary2={}"
   ]
  },
  {
   "cell_type": "code",
   "execution_count": 15,
   "metadata": {},
   "outputs": [
    {
     "name": "stdout",
     "output_type": "stream",
     "text": [
      "{1: '4', 'Sapthak': '2'}\n"
     ]
    }
   ],
   "source": [
    "#to edit an entry\n",
    "dictionary3[dog]=\"4\"\n",
    "print(dictionary3)"
   ]
  },
  {
   "cell_type": "code",
   "execution_count": 17,
   "metadata": {},
   "outputs": [
    {
     "name": "stdout",
     "output_type": "stream",
     "text": [
      "1\n",
      "4\n",
      "Sapthak\n",
      "2\n"
     ]
    }
   ],
   "source": [
    "#to loop through a dictionary\n",
    "for key in dictionary3:\n",
    "    print(key)\n",
    "    print(dictionary3[key])\n",
    "    #difference between a dictionary and list is that\n",
    "    #while looping through a dictionary a the key is printed from the dictionary \n",
    "    #whereas in lists an item from the list is printed\n",
    "    #the above code illustrates that scenario"
   ]
  },
  {
   "cell_type": "code",
   "execution_count": null,
   "metadata": {},
   "outputs": [],
   "source": []
  }
 ],
 "metadata": {
  "kernelspec": {
   "display_name": "Python 3",
   "language": "python",
   "name": "python3"
  },
  "language_info": {
   "codemirror_mode": {
    "name": "ipython",
    "version": 3
   },
   "file_extension": ".py",
   "mimetype": "text/x-python",
   "name": "python",
   "nbconvert_exporter": "python",
   "pygments_lexer": "ipython3",
   "version": "3.10.7"
  },
  "orig_nbformat": 4,
  "vscode": {
   "interpreter": {
    "hash": "d3e10ef16274dd72e574b8fa73b58450b957d8421a2901baded3cca26fcf5dda"
   }
  }
 },
 "nbformat": 4,
 "nbformat_minor": 2
}
