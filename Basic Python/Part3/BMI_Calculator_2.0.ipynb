{
 "cells": [
  {
   "cell_type": "code",
   "execution_count": 6,
   "metadata": {},
   "outputs": [
    {
     "name": "stdout",
     "output_type": "stream",
     "text": [
      "Your BMI is 15.1, underweight\n"
     ]
    }
   ],
   "source": [
    "height=float(input(\"Enter your height in m: \"))\n",
    "weight=float(input(\"Enter your weight in kg: \"))\n",
    "\n",
    "bmi=round((weight/(height**2)),1)\n",
    "\n",
    "if (bmi<18.5):\n",
    "    print(f\"Your BMI is {bmi}, underweight\")\n",
    "elif (bmi<25):\n",
    "    print(f\"Your BMI is {bmi}, normal\")\n",
    "elif (bmi<30):\n",
    "    print(f\"Your BMI is {bmi}, obese\")\n",
    "elif (bmi<35):\n",
    "    print(f\"Your BMI is {bmi}, overweight\")\n",
    "else:\n",
    "    print(f\"Your BMI is {bmi}, clinically obese\")\n"
   ]
  },
  {
   "cell_type": "code",
   "execution_count": null,
   "metadata": {},
   "outputs": [],
   "source": []
  }
 ],
 "metadata": {
  "kernelspec": {
   "display_name": "Python 3",
   "language": "python",
   "name": "python3"
  },
  "language_info": {
   "codemirror_mode": {
    "name": "ipython",
    "version": 3
   },
   "file_extension": ".py",
   "mimetype": "text/x-python",
   "name": "python",
   "nbconvert_exporter": "python",
   "pygments_lexer": "ipython3",
   "version": "3.10.7"
  },
  "orig_nbformat": 4,
  "vscode": {
   "interpreter": {
    "hash": "d3e10ef16274dd72e574b8fa73b58450b957d8421a2901baded3cca26fcf5dda"
   }
  }
 },
 "nbformat": 4,
 "nbformat_minor": 2
}
