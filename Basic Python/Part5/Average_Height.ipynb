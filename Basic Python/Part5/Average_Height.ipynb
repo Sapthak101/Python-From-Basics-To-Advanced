{
 "cells": [
  {
   "cell_type": "code",
   "execution_count": 2,
   "metadata": {},
   "outputs": [
    {
     "name": "stdout",
     "output_type": "stream",
     "text": [
      "23, 45  ,5, 7\n",
      "The average height is: 20.0\n"
     ]
    }
   ],
   "source": [
    "height=input(\"Enter heights of the students seperated by comma: \")\n",
    "print(height)\n",
    "list_height=height.split(\",\")\n",
    "sum=0\n",
    "c=0\n",
    "for height in list_height:\n",
    "    sum=sum+float(height)\n",
    "    c=c+1\n",
    "print(f\"The average height is: {sum/c}\")"
   ]
  },
  {
   "cell_type": "code",
   "execution_count": null,
   "metadata": {},
   "outputs": [],
   "source": []
  }
 ],
 "metadata": {
  "kernelspec": {
   "display_name": "Python 3",
   "language": "python",
   "name": "python3"
  },
  "language_info": {
   "codemirror_mode": {
    "name": "ipython",
    "version": 3
   },
   "file_extension": ".py",
   "mimetype": "text/x-python",
   "name": "python",
   "nbconvert_exporter": "python",
   "pygments_lexer": "ipython3",
   "version": "3.10.7"
  },
  "orig_nbformat": 4,
  "vscode": {
   "interpreter": {
    "hash": "d3e10ef16274dd72e574b8fa73b58450b957d8421a2901baded3cca26fcf5dda"
   }
  }
 },
 "nbformat": 4,
 "nbformat_minor": 2
}
