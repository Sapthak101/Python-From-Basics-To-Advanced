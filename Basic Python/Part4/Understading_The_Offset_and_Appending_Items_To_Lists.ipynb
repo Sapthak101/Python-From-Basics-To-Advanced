{
 "cells": [
  {
   "cell_type": "code",
   "execution_count": 4,
   "metadata": {},
   "outputs": [
    {
     "name": "stdout",
     "output_type": "stream",
     "text": [
      "<class 'list'>\n",
      "['Apple', 'Tomato', 'Jack Fruit', 1]\n",
      "Tomato\n",
      "1\n",
      "['Apple', 'Tomato', 'Jack Fruit', 'Fruits', 'Chelsea', 'Barca', 'chelsea2']\n"
     ]
    }
   ],
   "source": [
    "#python list are data structures: means a way of orgainsing data with some dedicated predifined opertations\n",
    "#python lists are also objects\n",
    "list=[1,2,3] #list in python\n",
    "print(type(list))\n",
    "list=[\"Apple\", \"Tomato\", 'Jack Fruit', 1]\n",
    "print(list) #lists are not as arrays\n",
    "print(list[1]) #indexing starts at zerp\n",
    "#in list offset =1, index=orginal_postion+1\n",
    "#negative indexing can also be done\n",
    "#in negative indexing the las element in the list starts from -1\n",
    "print(list[-1])\n",
    "list[-1]='Fruits' #midifying list\n",
    "#to append an item at the end of the list\n",
    "list.append(\"Chelsea\")\n",
    "list.extend([\"Barca\", \"chelsea2\"]) #appending multiple items or concatenating a list at the end of the current list\n",
    "print(list)\n"
   ]
  },
  {
   "cell_type": "code",
   "execution_count": null,
   "metadata": {},
   "outputs": [],
   "source": []
  }
 ],
 "metadata": {
  "kernelspec": {
   "display_name": "Python 3",
   "language": "python",
   "name": "python3"
  },
  "language_info": {
   "codemirror_mode": {
    "name": "ipython",
    "version": 3
   },
   "file_extension": ".py",
   "mimetype": "text/x-python",
   "name": "python",
   "nbconvert_exporter": "python",
   "pygments_lexer": "ipython3",
   "version": "3.10.7"
  },
  "orig_nbformat": 4,
  "vscode": {
   "interpreter": {
    "hash": "d3e10ef16274dd72e574b8fa73b58450b957d8421a2901baded3cca26fcf5dda"
   }
  }
 },
 "nbformat": 4,
 "nbformat_minor": 2
}
