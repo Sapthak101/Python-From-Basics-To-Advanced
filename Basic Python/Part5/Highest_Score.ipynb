{
 "cells": [
  {
   "cell_type": "code",
   "execution_count": 2,
   "metadata": {},
   "outputs": [
    {
     "name": "stdout",
     "output_type": "stream",
     "text": [
      "The highest mark is:   78\n"
     ]
    }
   ],
   "source": [
    "marks=input(\"Enter marks of the students seperated by comma: \")\n",
    "list_marks=marks.split(\",\")\n",
    "h_mark=list_marks[0]\n",
    "for mark in list_marks:\n",
    "    if (float(mark)>=float(h_mark)):\n",
    "        h_mark=mark\n",
    "print(f\"The highest mark is: {h_mark}\")"
   ]
  },
  {
   "cell_type": "code",
   "execution_count": null,
   "metadata": {},
   "outputs": [],
   "source": []
  }
 ],
 "metadata": {
  "kernelspec": {
   "display_name": "Python 3",
   "language": "python",
   "name": "python3"
  },
  "language_info": {
   "codemirror_mode": {
    "name": "ipython",
    "version": 3
   },
   "file_extension": ".py",
   "mimetype": "text/x-python",
   "name": "python",
   "nbconvert_exporter": "python",
   "pygments_lexer": "ipython3",
   "version": "3.10.7"
  },
  "orig_nbformat": 4,
  "vscode": {
   "interpreter": {
    "hash": "d3e10ef16274dd72e574b8fa73b58450b957d8421a2901baded3cca26fcf5dda"
   }
  }
 },
 "nbformat": 4,
 "nbformat_minor": 2
}
