{
 "cells": [
  {
   "cell_type": "code",
   "execution_count": 7,
   "metadata": {},
   "outputs": [
    {
     "name": "stdout",
     "output_type": "stream",
     "text": [
      "['S', 'a', 'p', 't', 'h', 'a', 'k']\n",
      "The person who is going to pay the bill is Sapthak\n",
      " Pappu\n"
     ]
    }
   ],
   "source": [
    "str1=\"S,a,p,t,h,a,k\"\n",
    "list_split=str1.split(\",\") #converting a string into a list using the split memebr funtion, and splitting it by a comma as per the main string\n",
    "\n",
    "print(list_split)\n",
    "\n",
    "names=input(\"Input the names of the participants: \")\n",
    "\n",
    "names_list=names.split(',')\n",
    "len1=len(names_list) #len funtion can be used with both string and lists\n",
    "\n",
    "import random as rn\n",
    "\n",
    "index=rn.randint(0, len1-1)\n",
    "\n",
    "print(f\"The person who is going to pay the bill is {names_list[index]}\")\n",
    "#with choice method\n",
    "\n",
    "person=rn.choice(names_list)\n",
    "print(person+\" with choice funtion\")"
   ]
  }
 ],
 "metadata": {
  "kernelspec": {
   "display_name": "Python 3",
   "language": "python",
   "name": "python3"
  },
  "language_info": {
   "codemirror_mode": {
    "name": "ipython",
    "version": 3
   },
   "file_extension": ".py",
   "mimetype": "text/x-python",
   "name": "python",
   "nbconvert_exporter": "python",
   "pygments_lexer": "ipython3",
   "version": "3.10.7"
  },
  "orig_nbformat": 4,
  "vscode": {
   "interpreter": {
    "hash": "d3e10ef16274dd72e574b8fa73b58450b957d8421a2901baded3cca26fcf5dda"
   }
  }
 },
 "nbformat": 4,
 "nbformat_minor": 2
}
