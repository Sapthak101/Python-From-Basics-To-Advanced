{
 "cells": [
  {
   "cell_type": "code",
   "execution_count": 5,
   "metadata": {},
   "outputs": [
    {
     "name": "stdout",
     "output_type": "stream",
     "text": [
      "Welcome to the tip calculator: \n",
      "Each person will pay: $164.21\n",
      "Each person will pay: $164.21\n"
     ]
    }
   ],
   "source": [
    "print(\"Welcome to the tip calculator: \")\n",
    "num1=float(input(\"Please enter the total bill\"))\n",
    "num2=int(input((\"Enter the percentage of tip that you will like to give: 10, 12, or 15: \")))\n",
    "split=int(input(\"Into how mnay person you want to split the bill: \"))\n",
    "\n",
    "grand_total=num1*(1+float(num2)/100)\n",
    "each_person_pays=grand_total/split\n",
    "#another way of rounding decimal places\n",
    "new_format=\"{:.2f}\".format(each_person_pays)\n",
    "print(f\"Each person will pay: ${round(each_person_pays, 2)}\")\n",
    "print(f\"Each person will pay: ${new_format}\")"
   ]
  },
  {
   "cell_type": "code",
   "execution_count": null,
   "metadata": {},
   "outputs": [],
   "source": []
  }
 ],
 "metadata": {
  "kernelspec": {
   "display_name": "Python 3",
   "language": "python",
   "name": "python3"
  },
  "language_info": {
   "codemirror_mode": {
    "name": "ipython",
    "version": 3
   },
   "file_extension": ".py",
   "mimetype": "text/x-python",
   "name": "python",
   "nbconvert_exporter": "python",
   "pygments_lexer": "ipython3",
   "version": "3.10.7"
  },
  "orig_nbformat": 4,
  "vscode": {
   "interpreter": {
    "hash": "d3e10ef16274dd72e574b8fa73b58450b957d8421a2901baded3cca26fcf5dda"
   }
  }
 },
 "nbformat": 4,
 "nbformat_minor": 2
}
