{
 "cells": [
  {
   "cell_type": "code",
   "execution_count": 1,
   "metadata": {},
   "outputs": [
    {
     "name": "stdout",
     "output_type": "stream",
     "text": [
      "Sapthak\n",
      "<class 'str'>\n",
      "4\n",
      "0.7062919535835686\n"
     ]
    },
    {
     "ename": "ModuleNotFoundError",
     "evalue": "No module named 'demo_mod'",
     "output_type": "error",
     "traceback": [
      "\u001b[1;31m---------------------------------------------------------------------------\u001b[0m",
      "\u001b[1;31mModuleNotFoundError\u001b[0m                       Traceback (most recent call last)",
      "Cell \u001b[1;32mIn[1], line 20\u001b[0m\n\u001b[0;32m     18\u001b[0m random_float\u001b[39m=\u001b[39mrn\u001b[39m.\u001b[39mrandom()\u001b[39m*\u001b[39m\u001b[39m5\u001b[39m \u001b[39m#extends the floating range below less than five\u001b[39;00m\n\u001b[0;32m     19\u001b[0m \u001b[39m#if else statement can be implemet to use the funtion in bolth sides\u001b[39;00m\n\u001b[1;32m---> 20\u001b[0m \u001b[39mimport\u001b[39;00m \u001b[39mdemo_mod\u001b[39;00m \u001b[39mas\u001b[39;00m \u001b[39mdm\u001b[39;00m\n\u001b[0;32m     21\u001b[0m \u001b[39mprint\u001b[39m(dm\u001b[39m.\u001b[39mpi)\n",
      "\u001b[1;31mModuleNotFoundError\u001b[0m: No module named 'demo_mod'"
     ]
    }
   ],
   "source": [
    "import random as rn\n",
    "name=\"Sapthak\"\n",
    "print(name)\n",
    "print(type(str()))\n",
    "#int, float, double, boolean in python are all objects\n",
    "random_integer=rn.randint(0,10) # a random number is returned inclusive 0 and 10\n",
    "print(random_integer)\n",
    "#we we are working on alarge project wrting all the code under the same module makes the code look very complicated\n",
    "#in that case the code can splitted into modules which can be imported assuming that all the required module are present under the same file directory\n",
    "#modules consists of classes and funtions\n",
    "#a mdule should be imported using its name\n",
    "\n",
    "random_float=rn.random() #gives a floting point number between 0 and and not including 1, and it takes no argument\n",
    "\n",
    "print(random_float)\n",
    "\n",
    "#extedning range with float\n",
    "random_float=rn.random()*5 #extends the floating range below less than five\n",
    "#if else statement can be implemet to use the funtion in bolth sides\n",
    "import demo_mod as dm\n",
    "print(dm.pi)\n"
   ]
  },
  {
   "cell_type": "code",
   "execution_count": null,
   "metadata": {},
   "outputs": [],
   "source": []
  }
 ],
 "metadata": {
  "kernelspec": {
   "display_name": "Python 3",
   "language": "python",
   "name": "python3"
  },
  "language_info": {
   "codemirror_mode": {
    "name": "ipython",
    "version": 3
   },
   "file_extension": ".py",
   "mimetype": "text/x-python",
   "name": "python",
   "nbconvert_exporter": "python",
   "pygments_lexer": "ipython3",
   "version": "3.10.7"
  },
  "orig_nbformat": 4,
  "vscode": {
   "interpreter": {
    "hash": "d3e10ef16274dd72e574b8fa73b58450b957d8421a2901baded3cca26fcf5dda"
   }
  }
 },
 "nbformat": 4,
 "nbformat_minor": 2
}
